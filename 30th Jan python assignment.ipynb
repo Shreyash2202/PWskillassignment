{
 "cells": [
  {
   "cell_type": "code",
   "execution_count": null,
   "id": "bfdabdf7",
   "metadata": {},
   "outputs": [],
   "source": [
    "Assignment 2:"
   ]
  },
  {
   "cell_type": "code",
   "execution_count": 4,
   "id": "75c0eaa7",
   "metadata": {},
   "outputs": [
    {
     "name": "stdout",
     "output_type": "stream",
     "text": [
      "Enter the percentage: 99\n",
      "Grade: A\n"
     ]
    }
   ],
   "source": [
    "#Q.1\n",
    "percentage  = float(input(\"Enter the percentage: \"))\n",
    " \n",
    "if percentage > 90:\n",
    "    grade = \"A\"\n",
    "elif percentage > 80:\n",
    "    grade = \"B\"\n",
    "elif percentage >= 60:\n",
    "    grade = \"C\"\n",
    "else:\n",
    "    grade = \"D\"\n",
    "\n",
    "print(f\"Grade: {grade}\")    \n",
    "    "
   ]
  },
  {
   "cell_type": "code",
   "execution_count": 8,
   "id": "cde85ac4",
   "metadata": {},
   "outputs": [
    {
     "name": "stdout",
     "output_type": "stream",
     "text": [
      "Enter the cost price of the bike (in Rs): 70000\n",
      "The road tax to be paid is: Rs  7000.00\n"
     ]
    }
   ],
   "source": [
    "#Q.2\n",
    "def calculate_road_tax(cost_price):\n",
    "    if cost_price > 100000:\n",
    "        road_tax = 0.15 * cost_price\n",
    "    elif cost_price > 50000:\n",
    "        road_tax = 0.10 * cost_price\n",
    "    else:\n",
    "        road_tax = 0.05 * cost_price\n",
    "        \n",
    "    return road_tax\n",
    "\n",
    "#input: cost price of the bike\n",
    "cost_price = float(input(\"Enter the cost price of the bike (in Rs): \"))\n",
    "\n",
    "#Calculate and display road tax \n",
    "road_tax = calculate_road_tax(cost_price)\n",
    "print(f\"The road tax to be paid is: Rs {road_tax: .2f}\")"
   ]
  },
  {
   "cell_type": "code",
   "execution_count": 11,
   "id": "beb208ad",
   "metadata": {},
   "outputs": [
    {
     "name": "stdout",
     "output_type": "stream",
     "text": [
      "Enter a citydelhi\n",
      "Red Fort\n"
     ]
    }
   ],
   "source": [
    "#Q.3\n",
    "city = input(\"Enter a city\")\n",
    "if city.upper() == \"DELHI\":\n",
    "    print(\"Red Fort\")\n",
    "elif city.upper() == \"AGRA\":\n",
    "    print(\"Taj Mahal\")\n",
    "elif city.upper() == \"JAIPUR\":\n",
    "    print(\"Jal Mahal\")\n",
    "else:\n",
    "    print(\"Enter a valid city\")"
   ]
  },
  {
   "cell_type": "code",
   "execution_count": 12,
   "id": "53d8917d",
   "metadata": {},
   "outputs": [
    {
     "name": "stdout",
     "output_type": "stream",
     "text": [
      "Total iteration required 3\n"
     ]
    }
   ],
   "source": [
    "#Q.4\n",
    "count = 0\n",
    "number = 180\n",
    "while number > 10:\n",
    "    # divide number by 3\n",
    "    number = number / 3\n",
    "    # increase count\n",
    "    count = count + 1\n",
    "print('Total iteration required', count)"
   ]
  },
  {
   "cell_type": "code",
   "execution_count": null,
   "id": "2b67576f",
   "metadata": {},
   "outputs": [],
   "source": [
    "#Q.5\n",
    "In Python, a while loop is used when you want to repeatedly execute a block of code as long as a certain condition is true.\n",
    "The loop continues to execute as long as the specified condition evaluates to True.\n",
    "Here's a detailed description along with an example:"
   ]
  },
  {
   "cell_type": "code",
   "execution_count": 22,
   "id": "d2e658e2",
   "metadata": {},
   "outputs": [],
   "source": [
    "while condition:\n",
    "    # Code to be executed as long as the condition is true\n",
    "    # ...\n",
    "# Code outside the loop "
   ]
  },
  {
   "cell_type": "code",
   "execution_count": 23,
   "id": "d38458eb",
   "metadata": {},
   "outputs": [
    {
     "name": "stdout",
     "output_type": "stream",
     "text": [
      "1\n",
      "2\n",
      "3\n",
      "4\n",
      "5\n",
      "Loop finished!\n"
     ]
    }
   ],
   "source": [
    "# Example: Print numbers from 1 to 5 using a while loop\n",
    "\n",
    "# Initialize a counter\n",
    "counter = 1\n",
    "\n",
    "# Define the condition for the while loop\n",
    "while counter <= 5:\n",
    "    # Code to be executed as long as the condition is true\n",
    "    print(counter)\n",
    "    \n",
    "    # Increment the counter\n",
    "    counter += 1\n",
    "\n",
    "# Code outside the loop\n",
    "print(\"Loop finished!\")\n"
   ]
  },
  {
   "cell_type": "code",
   "execution_count": null,
   "id": "c8a167e5",
   "metadata": {},
   "outputs": [],
   "source": [
    "Explanation:\n",
    "Initialization: Start by initializing any variables that are needed. In the example, the counter is initialized to 1.\n",
    "\n",
    "Condition: The while loop checks a condition (counter <= 5 in this example) before each iteration. If the condition is True, the code inside the loop is executed. If the condition is False, the loop exits, and the program continues with the code after the loop.\n",
    "\n",
    "Code Inside the Loop: The block of code inside the loop is executed repeatedly as long as the condition is true. In this example, it prints the current value of counter and increments it by 1.\n",
    "\n",
    "Updating the Condition: It's crucial to have a mechanism to modify the condition inside the loop. Otherwise, if the condition is always true, the loop will run indefinitely, causing a program to hang.\n",
    "\n",
    "Exiting the Loop: When the condition becomes False, the loop is exited, and the program continues with the code outside the loop.\n",
    "\n",
    "Use Cases:\n",
    "Iterating Until a Condition is Met: Use while loops when you want to repeat a block of code until a certain condition is met."
   ]
  },
  {
   "cell_type": "code",
   "execution_count": 24,
   "id": "8268c863",
   "metadata": {},
   "outputs": [
    {
     "name": "stdout",
     "output_type": "stream",
     "text": [
      "Enter something (type 'quit' to exit): 'quit'\n",
      "You entered: 'quit'\n",
      "Enter something (type 'quit' to exit): quit\n",
      "You entered: quit\n"
     ]
    }
   ],
   "source": [
    "# Example: Keep prompting the user until a valid input is received\n",
    "user_input = \"\"\n",
    "while user_input.lower() != \"quit\":\n",
    "    user_input = input(\"Enter something (type 'quit' to exit): \")\n",
    "    print(\"You entered:\", user_input)\n"
   ]
  },
  {
   "cell_type": "code",
   "execution_count": null,
   "id": "f970005c",
   "metadata": {},
   "outputs": [],
   "source": [
    "Processing Elements in a List/Sequence: Use while loops when you need to iterate through a list or sequence based on a condition."
   ]
  },
  {
   "cell_type": "code",
   "execution_count": 26,
   "id": "5bf2543c",
   "metadata": {},
   "outputs": [
    {
     "name": "stdout",
     "output_type": "stream",
     "text": [
      "1\n",
      "2\n",
      "3\n",
      "4\n",
      "5\n",
      "6\n",
      "7\n",
      "8\n",
      "9\n",
      "10\n"
     ]
    }
   ],
   "source": [
    "# Example: Process elements in a list until a specific value is encountered\n",
    "numbers = [1, 2, 3, 4, 5, 6, 7, 8, 9, 10, -1, 11]\n",
    "index = 0\n",
    "while numbers[index] != -1:\n",
    "    print(numbers[index])\n",
    "    index += 1\n"
   ]
  },
  {
   "cell_type": "code",
   "execution_count": null,
   "id": "423fe00d",
   "metadata": {},
   "outputs": [],
   "source": [
    "Be cautious when using while loops to avoid infinite loops by ensuring that the condition eventually becomes False. \n",
    "It's often helpful to have a clear exit condition. \n",
    "If you can express the iteration more directly using a for loop, that may be preferable in many cases."
   ]
  },
  {
   "cell_type": "code",
   "execution_count": 27,
   "id": "fd1350e5",
   "metadata": {},
   "outputs": [
    {
     "name": "stdout",
     "output_type": "stream",
     "text": [
      "* \n",
      "* * \n",
      "* * * \n",
      "* * * * \n",
      "* * * * * \n"
     ]
    }
   ],
   "source": [
    "#Q.6\n",
    "# Pattern 1\n",
    "row = 1\n",
    "while row <= 5:\n",
    "    col = 1\n",
    "    while col <= row:\n",
    "        print(\"*\", end=\" \")\n",
    "        col += 1\n",
    "    print()\n",
    "    row += 1\n"
   ]
  },
  {
   "cell_type": "code",
   "execution_count": 28,
   "id": "40f25523",
   "metadata": {},
   "outputs": [
    {
     "name": "stdout",
     "output_type": "stream",
     "text": [
      "1 2 3 4 5 \n",
      "1 2 3 4 \n",
      "1 2 3 \n",
      "1 2 \n",
      "1 \n"
     ]
    }
   ],
   "source": [
    "# Pattern 2\n",
    "row = 5\n",
    "while row >= 1:\n",
    "    col = 1\n",
    "    while col <= row:\n",
    "        print(col, end=\" \")\n",
    "        col += 1\n",
    "    print()\n",
    "    row -= 1\n"
   ]
  },
  {
   "cell_type": "code",
   "execution_count": 29,
   "id": "310eb32d",
   "metadata": {},
   "outputs": [
    {
     "name": "stdout",
     "output_type": "stream",
     "text": [
      "        * \n",
      "      * * \n",
      "    * * * \n",
      "  * * * * \n",
      "* * * * * \n"
     ]
    }
   ],
   "source": [
    "# Pattern 3\n",
    "row = 1\n",
    "while row <= 5:\n",
    "    spaces = 5 - row\n",
    "    while spaces > 0:\n",
    "        print(\" \", end=\" \")\n",
    "        spaces -= 1\n",
    "\n",
    "    col = 1\n",
    "    while col <= row:\n",
    "        print(\"*\", end=\" \")\n",
    "        col += 1\n",
    "\n",
    "    print()\n",
    "    row += 1\n"
   ]
  },
  {
   "cell_type": "code",
   "execution_count": 30,
   "id": "43122d89",
   "metadata": {},
   "outputs": [
    {
     "name": "stdout",
     "output_type": "stream",
     "text": [
      "10\n",
      "9\n",
      "8\n",
      "7\n",
      "6\n",
      "5\n",
      "4\n",
      "3\n",
      "2\n",
      "1\n"
     ]
    }
   ],
   "source": [
    "#Q.7\n",
    "num = 10\n",
    "while num >= 1:\n",
    "    print(num)\n",
    "    num -= 1\n"
   ]
  },
  {
   "cell_type": "code",
   "execution_count": 31,
   "id": "76a1b169",
   "metadata": {},
   "outputs": [
    {
     "name": "stdout",
     "output_type": "stream",
     "text": [
      "10\n",
      "9\n",
      "8\n",
      "7\n",
      "6\n",
      "5\n",
      "4\n",
      "3\n",
      "2\n",
      "1\n"
     ]
    }
   ],
   "source": [
    "#Q.8\n",
    "num = 10\n",
    "while num >= 1:\n",
    "    print(num)\n",
    "    num -= 1\n"
   ]
  },
  {
   "cell_type": "code",
   "execution_count": null,
   "id": "0930da91",
   "metadata": {},
   "outputs": [],
   "source": []
  }
 ],
 "metadata": {
  "kernelspec": {
   "display_name": "Python 3",
   "language": "python",
   "name": "python3"
  },
  "language_info": {
   "codemirror_mode": {
    "name": "ipython",
    "version": 3
   },
   "file_extension": ".py",
   "mimetype": "text/x-python",
   "name": "python",
   "nbconvert_exporter": "python",
   "pygments_lexer": "ipython3",
   "version": "3.8.8"
  }
 },
 "nbformat": 4,
 "nbformat_minor": 5
}
